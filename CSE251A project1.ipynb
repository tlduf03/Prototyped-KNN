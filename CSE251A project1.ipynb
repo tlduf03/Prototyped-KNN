{
 "cells": [
  {
   "cell_type": "markdown",
   "id": "52a401af",
   "metadata": {},
   "source": [
    "# K-NN classifier with MNIST dataset"
   ]
  },
  {
   "cell_type": "code",
   "execution_count": 139,
   "id": "7c6bc361",
   "metadata": {},
   "outputs": [],
   "source": [
    "import time\n",
    "import numpy as np\n",
    "import matplotlib.pyplot as plt\n",
    "\n",
    "from sklearn.neighbors import KNeighborsClassifier\n",
    "from sklearn.model_selection import train_test_split\n",
    "from sklearn import metrics\n",
    "%matplotlib inline"
   ]
  },
  {
   "cell_type": "markdown",
   "id": "9dce2e8a",
   "metadata": {},
   "source": [
    "## 1. Setup the environment for K-NN"
   ]
  },
  {
   "cell_type": "markdown",
   "id": "626f545b",
   "metadata": {},
   "source": [
    "### Import MNIST dataset"
   ]
  },
  {
   "cell_type": "code",
   "execution_count": 110,
   "id": "798cee8d",
   "metadata": {},
   "outputs": [],
   "source": [
    "from sklearn.datasets import fetch_openml\n",
    "X, y = fetch_openml(\"mnist_784\", version=1, return_X_y=True, as_frame=False)"
   ]
  },
  {
   "cell_type": "markdown",
   "id": "d66123bb",
   "metadata": {},
   "source": [
    "### Prepare the Training and Test dataset"
   ]
  },
  {
   "cell_type": "code",
   "execution_count": 140,
   "id": "6fa73e3c",
   "metadata": {
    "scrolled": false
   },
   "outputs": [
    {
     "name": "stdout",
     "output_type": "stream",
     "text": [
      "The shape of X_train :  (60000, 784)\n",
      "The shape of X_test :  (10000, 784)\n",
      "The shape of Y_train :  (60000,)\n",
      "The shape of Y_test :  (10000,)\n",
      "Labels in y :  ['0' '1' '2' '3' '4' '5' '6' '7' '8' '9']\n"
     ]
    }
   ],
   "source": [
    "X_train, X_test, y_train, y_test = train_test_split(X,y,test_size=10000)\n",
    "labels = np.unique(y_train)\n",
    "print(\"The shape of X_train : \",X_train.shape)\n",
    "print(\"The shape of X_test : \",X_test.shape)\n",
    "print(\"The shape of Y_train : \",y_train.shape)\n",
    "print(\"The shape of Y_test : \",y_test.shape)\n",
    "print(\"Labels in y : \",labels)"
   ]
  },
  {
   "cell_type": "markdown",
   "id": "6b385d3a",
   "metadata": {},
   "source": [
    "### Display training examples"
   ]
  },
  {
   "cell_type": "code",
   "execution_count": 112,
   "id": "3634bf5e",
   "metadata": {},
   "outputs": [
    {
     "data": {
      "image/png": "[encoded data removed]",
      "text/plain": [
       "<Figure size 1440x288 with 5 Axes>"
      ]
     },
     "metadata": {
      "needs_background": "light"
     },
     "output_type": "display_data"
    }
   ],
   "source": [
    "plt.figure(figsize=(20,4))\n",
    "\n",
    "for i in range(5):\n",
    "    plt.subplot(1,5,i+1)\n",
    "    plt.imshow(np.reshape(X_train[i,:],(28,28)),cmap='gray')\n",
    "    plt.title('Training image example %i' %int(y_train[i]), fontsize=15)"
   ]
  },
  {
   "cell_type": "markdown",
   "id": "cbae8812",
   "metadata": {},
   "source": [
    "### Conventional KNN algorithm over whole data with K=1\n"
   ]
  },
  {
   "cell_type": "code",
   "execution_count": 113,
   "id": "a34842e0",
   "metadata": {},
   "outputs": [
    {
     "name": "stdout",
     "output_type": "stream",
     "text": [
      "Algorithm runs in 19.119 s\n"
     ]
    }
   ],
   "source": [
    "t0 = time.time()\n",
    "knn = KNeighborsClassifier(n_neighbors=1)\n",
    "knn.fit(X_train,y_train)\n",
    "y_predict = knn.predict(X_test)\n",
    "run_time = time.time() - t0\n",
    "print(\"Algorithm runs in %.3f s\" % run_time)"
   ]
  },
  {
   "cell_type": "code",
   "execution_count": 114,
   "id": "10a6f84d",
   "metadata": {
    "scrolled": true
   },
   "outputs": [
    {
     "name": "stdout",
     "output_type": "stream",
     "text": [
      "Accuracy of convential 1-NN calssifier:  0.9736\n"
     ]
    }
   ],
   "source": [
    "print(\"Accuracy of convential 1-NN calssifier: \",metrics.accuracy_score(y_predict,y_test))"
   ]
  },
  {
   "cell_type": "markdown",
   "id": "87ab10e1",
   "metadata": {},
   "source": [
    "## 2. Choosing 'prototypes' method\n",
    "-In this part, we will compare the uniformly random choice on training data and choice on prototype. We will be using K-means clustering to find the centroid of each label in terms of choosing prototype. From there, we can choose more eligeble data point to train data."
   ]
  },
  {
   "cell_type": "markdown",
   "id": "b884f28f",
   "metadata": {},
   "source": [
    "### 2.1 The function randomly (uniformly) choose 'M' samples from the training set."
   ]
  },
  {
   "cell_type": "code",
   "execution_count": 130,
   "id": "faf863c6",
   "metadata": {},
   "outputs": [],
   "source": [
    "def rand_prototype(X_train,y_train,M):\n",
    "    indices = np.random.choice(len(y_train), M, replace=False)\n",
    "    return X_train[indices,:], y_train[indices]\n",
    "# sampleX, sampleY = rand_prototype(1000)"
   ]
  },
  {
   "cell_type": "markdown",
   "id": "70563555",
   "metadata": {},
   "source": [
    "#### Random choice with different M values (1000, 5000, 10000, 20000, 40000)"
   ]
  },
  {
   "cell_type": "code",
   "execution_count": 124,
   "id": "7426d85f",
   "metadata": {},
   "outputs": [
    {
     "name": "stdout",
     "output_type": "stream",
     "text": [
      "Accuracy of convential 1-NN calssifier with 1000 samples:  0.8792\n"
     ]
    }
   ],
   "source": [
    "# M = [1000,5000,10000,20000,40000]\n",
    "# M = 1000\n",
    "accuracy = []\n",
    "X_train_1000, y_train_1000 = rand_prototype(X_train,y_train,1000)\n",
    "knn.fit(X_train_1000,y_train_1000)\n",
    "y_predict = knn.predict(X_test)\n",
    "print(\"Accuracy of convential 1-NN calssifier with 1000 samples: \",metrics.accuracy_score(y_predict,y_test))\n",
    "accuracy.append(metrics.accuracy_score(y_predict,y_test))\n"
   ]
  },
  {
   "cell_type": "markdown",
   "id": "1fa8a1c6",
   "metadata": {},
   "source": [
    "### 2.2 Implementation my own algorithm:\n",
    "-In this step, we want to build a more efficient algorithm than conventional KNN. Instead of choosing 'M' training sampels randomly, my approach here is to first build a ball tree to segmentize data in high dimension to search nearest neighbors faster. Then we can find the center of each labels(classes) to collect the 'M' training data closest to the center. Since computing all euclidian distances for sampels cost can be expensive, it seems reasonable to use tree algorithm to find 'M' nearest neighbors.\n",
    "\n",
    "#Then we'll be utilizing k-means algorithm to find the centroids of each group.\n",
    "\n",
    "Clustering:\n",
    "Partitional clustering : no object can be a member of more than one cluster => k-means\n"
   ]
  },
  {
   "cell_type": "code",
   "execution_count": 115,
   "id": "839fa907",
   "metadata": {},
   "outputs": [],
   "source": [
    "from sklearn.cluster import KMeans\n",
    "from sklearn.neighbors import BallTree"
   ]
  },
  {
   "cell_type": "code",
   "execution_count": 116,
   "id": "18a97a12",
   "metadata": {},
   "outputs": [],
   "source": [
    "def get_indices_closest_points(M, tree, target_data):\n",
    "    dist, idx = np.squeeze(tree.query(target_data[:],k=M))\n",
    "    return idx.astype(int)"
   ]
  },
  {
   "cell_type": "code",
   "execution_count": 206,
   "id": "d5ceb942",
   "metadata": {},
   "outputs": [],
   "source": [
    "def my_algorithm1(X_train, y_train, M):\n",
    "\n",
    "    # Retrieve data by label\n",
    "    X_train_0 = X_train[y_train == '0']\n",
    "    X_train_1 = X_train[y_train == '1']\n",
    "    X_train_2 = X_train[y_train == '2']\n",
    "    X_train_3 = X_train[y_train == '3']\n",
    "    X_train_4 = X_train[y_train == '4']\n",
    "    X_train_5 = X_train[y_train == '5']\n",
    "    X_train_6 = X_train[y_train == '6']\n",
    "    X_train_7 = X_train[y_train == '7']\n",
    "    X_train_8 = X_train[y_train == '8']\n",
    "    X_train_9 = X_train[y_train == '9']\n",
    "    X_train_labels = [X_train_0,X_train_1,X_train_2,X_train_3,X_train_4,\n",
    "                      X_train_5,X_train_6,X_train_7,X_train_8,X_train_9]\n",
    "    \n",
    "    ball_tree = BallTree(X_train, metric ='euclidean')\n",
    "    \n",
    "    # run K-means\n",
    "    num_centroids = 10\n",
    "\n",
    "    kmeans_0 = KMeans(n_clusters=num_centroids, init='k-means++',random_state=0).fit(X_train_0)\n",
    "    sample_0 = kmeans_0.cluster_centers_\n",
    "\n",
    "    kmeans_1 = KMeans(n_clusters=num_centroids, init='k-means++',random_state=0).fit(X_train_1)\n",
    "    sample_1 = kmeans_1.cluster_centers_\n",
    "\n",
    "    kmeans_2 = KMeans(n_clusters=num_centroids, init='k-means++',random_state=0).fit(X_train_2)\n",
    "    sample_2 = kmeans_2.cluster_centers_\n",
    "\n",
    "    kmeans_3 = KMeans(n_clusters=num_centroids, init='k-means++',random_state=0).fit(X_train_3)\n",
    "    sample_3 = kmeans_3.cluster_centers_\n",
    "\n",
    "    kmeans_4 = KMeans(n_clusters=num_centroids, init='k-means++',random_state=0).fit(X_train_4)\n",
    "    sample_4 = kmeans_4.cluster_centers_\n",
    "\n",
    "    kmeans_5 = KMeans(n_clusters=num_centroids, init='k-means++',random_state=0).fit(X_train_5)\n",
    "    sample_5 = kmeans_5.cluster_centers_\n",
    "\n",
    "    kmeans_6 = KMeans(n_clusters=num_centroids, init='k-means++',random_state=0).fit(X_train_6)\n",
    "    sample_6 = kmeans_6.cluster_centers_\n",
    "\n",
    "    kmeans_7 = KMeans(n_clusters=num_centroids, init='k-means++',random_state=0).fit(X_train_7)\n",
    "    sample_7 = kmeans_7.cluster_centers_\n",
    "\n",
    "    kmeans_8 = KMeans(n_clusters=num_centroids, init='k-means++',random_state=0).fit(X_train_8)\n",
    "    sample_8 = kmeans_8.cluster_centers_\n",
    "\n",
    "    kmeans_9 = KMeans(n_clusters=num_centroids, init='k-means++',random_state=0).fit(X_train_9)\n",
    "    sample_9 = kmeans_9.cluster_centers_\n",
    "    \n",
    "    #choose M closest data points (M/10 for each labels)\n",
    "    \n",
    "#     M = 100\n",
    "    proto_sample = np.empty([0,0])\n",
    "    #create empty array to store nearest neighbors\n",
    "    all_0 = np.empty([0,784])\n",
    "    all_1 = np.empty([0,784])\n",
    "    all_2 = np.empty([0,784])\n",
    "    all_3 = np.empty([0,784])\n",
    "    all_4 = np.empty([0,784])\n",
    "    all_5 = np.empty([0,784])\n",
    "    all_6 = np.empty([0,784])\n",
    "    all_7 = np.empty([0,784])\n",
    "    all_8 = np.empty([0,784])\n",
    "    all_9 = np.empty([0,784])\n",
    "    M = M//num_centroids\n",
    "    for i in range(num_centroids):\n",
    "#         print(\"Iteration: \", i)\n",
    "        #iterate over cenroids we've found above\n",
    "        cluster_0 = sample_0[i,:][np.newaxis,:]\n",
    "        cluster_1 = sample_1[i,:][np.newaxis,:]\n",
    "        cluster_2 = sample_2[i,:][np.newaxis,:]\n",
    "        cluster_3 = sample_3[i,:][np.newaxis,:]\n",
    "        cluster_4 = sample_4[i,:][np.newaxis,:]\n",
    "        cluster_5 = sample_5[i,:][np.newaxis,:]\n",
    "        cluster_6 = sample_6[i,:][np.newaxis,:]\n",
    "        cluster_7 = sample_7[i,:][np.newaxis,:]\n",
    "        cluster_8 = sample_8[i,:][np.newaxis,:]\n",
    "        cluster_9 = sample_9[i,:][np.newaxis,:]\n",
    "\n",
    "#         print(\"Done with clusters\")\n",
    "        \n",
    "        #get M/#centroids points (i.e, if M=1000, #centroids=10 => 100 nearest points for each label)\n",
    "        idx0 = get_indices_closest_points(M//num_centroids, ball_tree, cluster_0)\n",
    "        idx1 = get_indices_closest_points(M//num_centroids, ball_tree, cluster_1)\n",
    "        idx2 = get_indices_closest_points(M//num_centroids, ball_tree, cluster_2)\n",
    "        idx3 = get_indices_closest_points(M//num_centroids, ball_tree, cluster_3)\n",
    "        idx4 = get_indices_closest_points(M//num_centroids, ball_tree, cluster_4)\n",
    "        idx5 = get_indices_closest_points(M//num_centroids, ball_tree, cluster_5)\n",
    "        idx6 = get_indices_closest_points(M//num_centroids, ball_tree, cluster_6)\n",
    "        idx7 = get_indices_closest_points(M//num_centroids, ball_tree, cluster_7)\n",
    "        idx8 = get_indices_closest_points(M//num_centroids, ball_tree, cluster_8)\n",
    "        idx9 = get_indices_closest_points(M//num_centroids, ball_tree, cluster_9)\n",
    "\n",
    "#         print(\"Done with idx\")\n",
    "        csample_0 = X_train[idx0,:]\n",
    "        csample_1 = X_train[idx1,:]\n",
    "        csample_2 = X_train[idx2,:]\n",
    "        csample_3 = X_train[idx3,:]\n",
    "        csample_4 = X_train[idx4,:]\n",
    "        csample_5 = X_train[idx5,:]\n",
    "        csample_6 = X_train[idx6,:]\n",
    "        csample_7 = X_train[idx7,:]\n",
    "        csample_8 = X_train[idx8,:]\n",
    "        csample_9 = X_train[idx9,:]\n",
    "\n",
    "#         print(\"Done with csample\")\n",
    "        all_0 = np.concatenate((all_0, csample_0))\n",
    "        all_1 = np.concatenate((all_1, csample_1))\n",
    "        all_2 = np.concatenate((all_2, csample_2))\n",
    "        all_3 = np.concatenate((all_3, csample_3))\n",
    "        all_4 = np.concatenate((all_4, csample_4))\n",
    "        all_5 = np.concatenate((all_5, csample_5))\n",
    "        all_6 = np.concatenate((all_6, csample_6))\n",
    "        all_7 = np.concatenate((all_7, csample_7))\n",
    "        all_8 = np.concatenate((all_8, csample_8))\n",
    "        all_9 = np.concatenate((all_9, csample_9))\n",
    "\n",
    "#         print(\"Done stacking\")\n",
    "######################End for loop#######################\n",
    "# stack prototypes and create labels\n",
    "    proto_sample = np.concatenate((all_0,all_1,\n",
    "                                   all_2,all_3,\n",
    "                                   all_4,all_5,\n",
    "                                   all_6,all_7,\n",
    "                                   all_8,all_9\n",
    "                                  ), axis = 0)\n",
    "\n",
    "    sample_0_labels = np.full((M,), 0)\n",
    "    sample_1_labels = np.full((M,), 1)\n",
    "    sample_2_labels = np.full((M,), 2)\n",
    "    sample_3_labels = np.full((M,), 3)\n",
    "    sample_4_labels = np.full((M,), 4)\n",
    "    sample_5_labels = np.full((M,), 5)\n",
    "    sample_6_labels = np.full((M,), 6)\n",
    "    sample_7_labels = np.full((M,), 7)\n",
    "    sample_8_labels = np.full((M,), 8)\n",
    "    sample_9_labels = np.full((M,), 9)\n",
    "\n",
    "    # same for labels\n",
    "    proto_labels = np.concatenate((sample_0_labels,sample_1_labels,\n",
    "                                   sample_2_labels,sample_3_labels,\n",
    "                                   sample_4_labels,sample_5_labels,\n",
    "                                   sample_6_labels,sample_7_labels,\n",
    "                                   sample_8_labels,sample_9_labels),\n",
    "                                  axis = 0\n",
    "                                 )\n",
    "\n",
    "    \n",
    "    \n",
    "    return proto_sample, proto_labels"
   ]
  },
  {
   "cell_type": "code",
   "execution_count": 164,
   "id": "f99653ae",
   "metadata": {
    "scrolled": true
   },
   "outputs": [],
   "source": [
    "# #test script\n",
    "# subX, subY = my_algorithm1(X_train, y_train, 1000)\n",
    "# print(subX.shape)\n",
    "# print(subY.shape)\n",
    "\n",
    "# t0 = time.time()\n",
    "# knn_base = KNeighborsClassifier(n_neighbors=1)\n",
    "# knn_base.fit(subX, subY)\n",
    "# y_predict = knn_base.predict(X_test)\n",
    "# run_time = time.time() - t0\n",
    "# print(\"Algorithm runs in %.3f s\" % run_time)\n",
    "\n",
    "# y_test = [int(n) for n in y_test]\n",
    "# print(\"Accuracy of convential 1-NN calssifier: \",metrics.accuracy_score(y_predict,y_test))"
   ]
  },
  {
   "cell_type": "markdown",
   "id": "cdaa8495",
   "metadata": {},
   "source": [
    "## 3. Compare the performances of 2 methods \n",
    "### Conventional NN VS Prototyped NN\n",
    "\n",
    "- We've found the accuracy of conventional 1-NN classifier above"
   ]
  },
  {
   "cell_type": "code",
   "execution_count": 204,
   "id": "912a1134",
   "metadata": {},
   "outputs": [
    {
     "name": "stdout",
     "output_type": "stream",
     "text": [
      "The shape of X_train :  (60000, 784)\n",
      "The shape of X_test :  (10000, 784)\n",
      "The shape of Y_train :  (60000,)\n",
      "The shape of Y_test :  (10000,)\n",
      "Labels in y :  ['0' '1' '2' '3' '4' '5' '6' '7' '8' '9']\n"
     ]
    }
   ],
   "source": [
    "from sklearn.datasets import fetch_openml\n",
    "X, y = fetch_openml(\"mnist_784\", version=1, return_X_y=True, as_frame=False)\n",
    "\n",
    "X_train, X_test, y_train, y_test = train_test_split(X,y,test_size=10000)\n",
    "labels = np.unique(y_train)\n",
    "print(\"The shape of X_train : \",X_train.shape)\n",
    "print(\"The shape of X_test : \",X_test.shape)\n",
    "print(\"The shape of Y_train : \",y_train.shape)\n",
    "print(\"The shape of Y_test : \",y_test.shape)\n",
    "print(\"Labels in y : \",labels)"
   ]
  },
  {
   "cell_type": "markdown",
   "id": "4ed646ca",
   "metadata": {},
   "source": [
    "### 3.1 Fit 1-NN classifier with randomly chosen subset"
   ]
  },
  {
   "cell_type": "code",
   "execution_count": 175,
   "id": "3fb8f1fe",
   "metadata": {},
   "outputs": [
    {
     "data": {
      "text/plain": [
       "[0.8783, 0.9068, 0.9194, 0.9331, 0.9422, 0.9468]"
      ]
     },
     "execution_count": 175,
     "metadata": {},
     "output_type": "execute_result"
    }
   ],
   "source": [
    "M = [1000, 2000, 3000, 5000, 7000, 10000]\n",
    "knn = KNeighborsClassifier(n_neighbors=1)\n",
    "\n",
    "#random choose phase\n",
    "accuracy = []\n",
    "for subsize in M:\n",
    "    subX1, subY1 = rand_prototype(X_train,y_train,subsize)\n",
    "    knn.fit(subX1,subY1)\n",
    "    y_predict1 = knn.predict(X_test)\n",
    "#     y_test = [int(n) for n in y_test]\n",
    "    temp_accuracy = metrics.accuracy_score(y_predict1,y_test)\n",
    "    accuracy.append(temp_accuracy)\n",
    "accuracy"
   ]
  },
  {
   "cell_type": "markdown",
   "id": "87f3fc4f",
   "metadata": {},
   "source": [
    "### 3.2 Fit 1-NN classifier with prototyped subset"
   ]
  },
  {
   "cell_type": "code",
   "execution_count": 207,
   "id": "322bcb5f",
   "metadata": {},
   "outputs": [],
   "source": [
    "# prototyping phase\n",
    "my_accuracy = []\n",
    "for subsize in M:\n",
    "    subX, subY = my_algorithm1(X_train, y_train, subsize)\n",
    "    knn.fit(subX,subY)\n",
    "    y_predict2 = knn.predict(X_test)\n",
    "    y_test = [int(n) for n in y_test]\n",
    "    temp_accuracy = metrics.accuracy_score(y_predict2,y_test)\n",
    "    my_accuracy.append(temp_accuracy)    "
   ]
  },
  {
   "cell_type": "code",
   "execution_count": 208,
   "id": "ffd10de7",
   "metadata": {},
   "outputs": [
    {
     "name": "stdout",
     "output_type": "stream",
     "text": [
      "[0.8783, 0.9068, 0.9194, 0.9331, 0.9422, 0.9468]\n",
      "[0.9064, 0.9162, 0.9189, 0.9255, 0.9276, 0.9271]\n"
     ]
    }
   ],
   "source": [
    "print(accuracy)\n",
    "print(my_accuracy)"
   ]
  },
  {
   "cell_type": "code",
   "execution_count": 198,
   "id": "878a47d5",
   "metadata": {},
   "outputs": [
    {
     "data": {
      "image/png": "[encoded data removed]",
      "text/plain": [
       "<Figure size 540x360 with 1 Axes>"
      ]
     },
     "metadata": {
      "needs_background": "light"
     },
     "output_type": "display_data"
    }
   ],
   "source": [
    "plt.rcParams[\"figure.figsize\"] = [7.50, 5]\n",
    "\n",
    "plt.plot(M,accuracy, marker='x')\n",
    "plt.plot(M,my_accuracy, marker='o')\n",
    "\n",
    "plt.legend(['Random subset','Prototyped'])\n",
    "plt.xlabel('Number of data in subset', fontsize='13')\n",
    "plt.ylabel('Accuracy on Testset', fontsize='13')\n",
    "\n",
    "plt.xticks(np.arange(0,11000,1000))\n",
    "plt.show()"
   ]
  },
  {
   "cell_type": "markdown",
   "id": "33473324",
   "metadata": {},
   "source": [
    "### 3.3 Compute the confidence interval of random subset algorithm\n",
    "- We'll be using t-distribution since the sample size is 10(<30)."
   ]
  },
  {
   "cell_type": "code",
   "execution_count": 216,
   "id": "d743a14b",
   "metadata": {},
   "outputs": [],
   "source": [
    "import scipy.stats as st\n",
    "from scipy.stats import t"
   ]
  },
  {
   "cell_type": "code",
   "execution_count": 211,
   "id": "6b5d78b6",
   "metadata": {},
   "outputs": [],
   "source": [
    "#M = [1000, 2000, 3000, 5000, 7000, 10000]\n",
    "\n",
    "acc = np.array([[0.8867, 0.9125, 0.9282, 0.9357, 0.9456, 0.9484],\n",
    "                [0.8793, 0.9011, 0.9203, 0.9309, 0.9388, 0.9487],\n",
    "                [0.8821, 0.917, 0.9186, 0.9337, 0.9402, 0.9491],\n",
    "                [0.8862, 0.9089, 0.9215, 0.9358, 0.9447, 0.9476],\n",
    "                [0.8818, 0.9131, 0.9177, 0.932, 0.9394, 0.9471],\n",
    "                [0.8713, 0.9118, 0.9212, 0.9329, 0.9429, 0.9503],\n",
    "                [0.8837, 0.9101, 0.92, 0.9356, 0.9396, 0.9502],\n",
    "                [0.8778, 0.905, 0.9153, 0.9359, 0.9404, 0.9476],\n",
    "                [0.8814, 0.9083, 0.9194, 0.9342, 0.9366, 0.9479],\n",
    "                [0.8783, 0.9068, 0.9194, 0.9331, 0.9422, 0.9468]])\n",
    "\n",
    "sample_mean = acc.mean(axis=0)\n",
    "sample_std = np.std(acc,axis=0)\n",
    "\n",
    "acc1000 = acc[:,0]\n",
    "acc2000 = acc[:,1]\n",
    "acc3000 = acc[:,2]\n",
    "acc5000 = acc[:,3]\n",
    "acc7000 = acc[:,4]\n",
    "acc10000 = acc[:,5]\n"
   ]
  },
  {
   "cell_type": "code",
   "execution_count": 215,
   "id": "1419feae",
   "metadata": {},
   "outputs": [
    {
     "data": {
      "text/plain": [
       "array([0.88086, 0.90946, 0.92016, 0.93398, 0.94104, 0.94837])"
      ]
     },
     "execution_count": 215,
     "metadata": {},
     "output_type": "execute_result"
    }
   ],
   "source": [
    "sample_mean"
   ]
  },
  {
   "cell_type": "code",
   "execution_count": 218,
   "id": "f2ce8d7c",
   "metadata": {},
   "outputs": [
    {
     "name": "stdout",
     "output_type": "stream",
     "text": [
      "(0.8776330081613224, 0.8840869918386776)\n",
      "(0.9062277264925314, 0.912692273507469)\n",
      "(0.9177656729002867, 0.9225543270997131)\n",
      "(0.9327169678780721, 0.9352430321219279)\n",
      "(0.9390506160098208, 0.9430293839901794)\n",
      "(0.9475036269488581, 0.949236373051142)\n"
     ]
    }
   ],
   "source": [
    "print(st.t.interval(alpha=0.95,df=len(acc1000)-1, loc=sample_mean[0],scale=st.sem(acc1000)))\n",
    "print(st.t.interval(alpha=0.95,df=len(acc2000)-1, loc=sample_mean[1],scale=st.sem(acc2000)))\n",
    "print(st.t.interval(alpha=0.95,df=len(acc3000)-1, loc=sample_mean[2],scale=st.sem(acc3000)))\n",
    "print(st.t.interval(alpha=0.95,df=len(acc5000)-1, loc=sample_mean[3],scale=st.sem(acc5000)))\n",
    "print(st.t.interval(alpha=0.95,df=len(acc7000)-1, loc=sample_mean[4],scale=st.sem(acc7000)))\n",
    "print(st.t.interval(alpha=0.95,df=len(acc10000)-1, loc=sample_mean[5],scale=st.sem(acc10000)))\n"
   ]
  },
  {
   "cell_type": "code",
   "execution_count": null,
   "id": "11a51e4b",
   "metadata": {},
   "outputs": [],
   "source": []
  }
 ],
 "metadata": {
  "kernelspec": {
   "display_name": "Python 3 (ipykernel)",
   "language": "python",
   "name": "python3"
  },
  "language_info": {
   "codemirror_mode": {
    "name": "ipython",
    "version": 3
   },
   "file_extension": ".py",
   "mimetype": "text/x-python",
   "name": "python",
   "nbconvert_exporter": "python",
   "pygments_lexer": "ipython3",
   "version": "3.8.11"
  }
 },
 "nbformat": 4,
 "nbformat_minor": 5
}
