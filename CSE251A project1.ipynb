{
 "cells": [
  {
   "cell_type": "markdown",
   "id": "52a401af",
   "metadata": {},
   "source": [
    "# KNN classifier with MNIST dataset"
   ]
  },
  {
   "cell_type": "code",
   "execution_count": 3,
   "id": "7c6bc361",
   "metadata": {},
   "outputs": [],
   "source": [
    "import time\n",
    "import numpy as np\n",
    "import matplotlib.pyplot as plt\n",
    "\n",
    "from sklearn.neighbors import KNeighborsClassifier\n",
    "from sklearn.model_selection import train_test_split\n",
    "from sklearn import metrics\n",
    "%matplotlib inline"
   ]
  },
  {
   "cell_type": "markdown",
   "id": "626f545b",
   "metadata": {},
   "source": [
    "### Import MNIST dataset"
   ]
  },
  {
   "cell_type": "code",
   "execution_count": 4,
   "id": "798cee8d",
   "metadata": {},
   "outputs": [],
   "source": [
    "from sklearn.datasets import fetch_openml\n",
    "X, y = fetch_openml(\"mnist_784\", version=1, return_X_y=True, as_frame=False)"
   ]
  },
  {
   "cell_type": "markdown",
   "id": "d66123bb",
   "metadata": {},
   "source": [
    "### Prepare the Training and Test dataset"
   ]
  },
  {
   "cell_type": "code",
   "execution_count": 5,
   "id": "6fa73e3c",
   "metadata": {
    "scrolled": false
   },
   "outputs": [
    {
     "name": "stdout",
     "output_type": "stream",
     "text": [
      "The shape of X_train :  (60000, 784)\n",
      "The shape of X_test :  (10000, 784)\n",
      "The shape of Y_train :  (60000,)\n",
      "The shape of Y_train :  (10000,)\n",
      "Labels in y :  ['0' '1' '2' '3' '4' '5' '6' '7' '8' '9']\n"
     ]
    }
   ],
   "source": [
    "X_train, X_test, y_train, y_test = train_test_split(X,y,test_size=10000)\n",
    "labels = np.unique(y_train)\n",
    "print(\"The shape of X_train : \",X_train.shape)\n",
    "print(\"The shape of X_test : \",X_test.shape)\n",
    "print(\"The shape of Y_train : \",y_train.shape)\n",
    "print(\"The shape of Y_train : \",y_test.shape)\n",
    "print(\"Labels in y : \",labels)"
   ]
  },
  {
   "cell_type": "markdown",
   "id": "6b385d3a",
   "metadata": {},
   "source": [
    "### Display training examples"
   ]
  },
  {
   "cell_type": "code",
   "execution_count": 6,
   "id": "3634bf5e",
   "metadata": {},
   "outputs": [
    {
     "data": {
      "image/png": "[encoded data removed]",
      "text/plain": [
       "<Figure size 1440x288 with 5 Axes>"
      ]
     },
     "metadata": {
      "needs_background": "light"
     },
     "output_type": "display_data"
    }
   ],
   "source": [
    "plt.figure(figsize=(20,4))\n",
    "\n",
    "for i in range(5):\n",
    "    plt.subplot(1,5,i+1)\n",
    "    plt.imshow(np.reshape(X_train[i,:],(28,28)),cmap='gray')\n",
    "    plt.title('Training image example %i' %int(y_train[i]), fontsize=15)"
   ]
  },
  {
   "cell_type": "markdown",
   "id": "cbae8812",
   "metadata": {},
   "source": [
    "### Conventional KNN algorithm over whole data with K=1\n"
   ]
  },
  {
   "cell_type": "code",
   "execution_count": 7,
   "id": "a34842e0",
   "metadata": {},
   "outputs": [
    {
     "name": "stdout",
     "output_type": "stream",
     "text": [
      "Algorithm runs in 17.315 s\n"
     ]
    }
   ],
   "source": [
    "t0 = time.time()\n",
    "knn_base = KNeighborsClassifier(n_neighbors=1)\n",
    "knn_base.fit(X_train,y_train)\n",
    "y_predict = knn_base.predict(X_test)\n",
    "run_time = time.time() - t0\n",
    "print(\"Algorithm runs in %.3f s\" % run_time)"
   ]
  },
  {
   "cell_type": "code",
   "execution_count": 8,
   "id": "10a6f84d",
   "metadata": {
    "scrolled": true
   },
   "outputs": [
    {
     "name": "stdout",
     "output_type": "stream",
     "text": [
      "Accuracy of convential 1-NN calssifier:  0.9734\n"
     ]
    }
   ],
   "source": [
    "print(\"Accuracy of convential 1-NN calssifier: \",metrics.accuracy_score(y_predict,y_test))"
   ]
  },
  {
   "cell_type": "markdown",
   "id": "87ab10e1",
   "metadata": {},
   "source": [
    "## 2. Choosing 'prototypes' method\n",
    "-In this part, we will compare the uniformly random choice on training data and choice on prototype. We will be using K-means clustering to find the centroid of each label in terms of choosing prototype. From there, we can choose more eligeble data point to train data."
   ]
  },
  {
   "cell_type": "markdown",
   "id": "b884f28f",
   "metadata": {},
   "source": [
    "### 2.1 The function randomly (uniformly) choose 'M' samples from the training set."
   ]
  },
  {
   "cell_type": "code",
   "execution_count": 9,
   "id": "faf863c6",
   "metadata": {},
   "outputs": [],
   "source": [
    "def rand_prototype(M):\n",
    "    indices = np.random.choice(len(y_train), M, replace=False)\n",
    "    return X_train[indices,:], y_train[indices]\n",
    "# sampleX, sampleY = rand_prototype(1000)"
   ]
  },
  {
   "cell_type": "markdown",
   "id": "cdaa8495",
   "metadata": {},
   "source": [
    "## 3. Comparing the 2 methods (Conventional NN VS Prototyped NN)"
   ]
  },
  {
   "cell_type": "code",
   "execution_count": null,
   "id": "5d7361a7",
   "metadata": {},
   "outputs": [],
   "source": [
    "t0 = time.time()\n",
    "\n",
    "run_time = time.time() - t0\n",
    "print(\"Algorithm runs in %.3f s\" % run_time)"
   ]
  }
 ],
 "metadata": {
  "kernelspec": {
   "display_name": "Python 3 (ipykernel)",
   "language": "python",
   "name": "python3"
  },
  "language_info": {
   "codemirror_mode": {
    "name": "ipython",
    "version": 3
   },
   "file_extension": ".py",
   "mimetype": "text/x-python",
   "name": "python",
   "nbconvert_exporter": "python",
   "pygments_lexer": "ipython3",
   "version": "3.9.7"
  }
 },
 "nbformat": 4,
 "nbformat_minor": 5
}
